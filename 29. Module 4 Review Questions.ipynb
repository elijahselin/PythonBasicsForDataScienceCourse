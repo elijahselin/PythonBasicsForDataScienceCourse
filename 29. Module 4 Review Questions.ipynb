{
 "cells": [
  {
   "cell_type": "markdown",
   "metadata": {},
   "source": [
    "Module 4 Review Questions"
   ]
  },
  {
   "cell_type": "markdown",
   "metadata": {},
   "source": [
    "1. What do the following lines of code do?\n",
    "\n",
    "with open(\"Example1.txt\", \"r\") as file 1:\n",
    "\n",
    "    FileContent = file1.readlines()\n",
    "    \n",
    "    print(File Content)"
   ]
  },
  {
   "cell_type": "code",
   "execution_count": 1,
   "metadata": {},
   "outputs": [],
   "source": [
    "#ATTEMPT 1:\n",
    "#With the \"Example1.txt\" file open in read mode under the name \"file1,\"\n",
    "    #read thelines of \"file1\" and save to the variable \"FileContent.\"\"\n",
    "    #display \"File Content\" to the user.\n",
    "\n",
    "#Answer: Read the fiel \"Example1.txt\""
   ]
  },
  {
   "cell_type": "markdown",
   "metadata": {},
   "source": [
    "Correct"
   ]
  },
  {
   "cell_type": "markdown",
   "metadata": {},
   "source": [
    "2. What do the following lines of code do?\n",
    "\n",
    "with open(\"Example2.txt\", \"w\") as writefile:\n",
    "\n",
    "    writefile.write(\"This is line A\\n\")\n",
    "    \n",
    "    writefiel.write(\"This is line B\\n\")"
   ]
  },
  {
   "cell_type": "code",
   "execution_count": 2,
   "metadata": {},
   "outputs": [],
   "source": [
    "#With the \"Example2.txt\" file open in write mode under the name \"writefile,\"\n",
    "    #write on writefile: \"This is line A\" (enter)\n",
    "    #write on writefile: \"This is line B\" (enter)\n",
    "\n",
    "#Answer: Write to the file \"Example2.txt\""
   ]
  },
  {
   "cell_type": "markdown",
   "metadata": {},
   "source": [
    "Correct"
   ]
  },
  {
   "cell_type": "markdown",
   "metadata": {},
   "source": [
    "3. What do the following lines of code do?\n",
    "\n",
    "with open(\"Example3.txt\", \"a\") as file1:\n",
    "\n",
    "    file1.write(\"This is line C\\n\")"
   ]
  },
  {
   "cell_type": "code",
   "execution_count": 4,
   "metadata": {},
   "outputs": [],
   "source": [
    "#Attmept 1\n",
    "#With the \"Example3.txt\" file open in append mode under the name \"file1,\"\n",
    "    #append \"This is line C\" (enter) to file1\n",
    "\n",
    "#Answer Append the file \"Example3.txt\""
   ]
  },
  {
   "cell_type": "markdown",
   "metadata": {},
   "source": [
    "Correct"
   ]
  },
  {
   "cell_type": "markdown",
   "metadata": {},
   "source": [
    "4. What is the result of applying the following method \"df.head()\", to the dataframe \"df\"?"
   ]
  },
  {
   "cell_type": "code",
   "execution_count": 5,
   "metadata": {},
   "outputs": [],
   "source": [
    "#Attempt 1\n",
    "#Answer prints the first 5 rows of the dataframe"
   ]
  },
  {
   "cell_type": "markdown",
   "metadata": {},
   "source": [
    "Correct"
   ]
  },
  {
   "cell_type": "markdown",
   "metadata": {},
   "source": [
    "5. What function would you use to load a csv file in pandas?"
   ]
  },
  {
   "cell_type": "code",
   "execution_count": 7,
   "metadata": {},
   "outputs": [],
   "source": [
    "#Attempt 1\n",
    "#Answer: pd.read_csv"
   ]
  },
  {
   "cell_type": "markdown",
   "metadata": {},
   "source": [
    "Correct"
   ]
  },
  {
   "cell_type": "code",
   "execution_count": null,
   "metadata": {},
   "outputs": [],
   "source": []
  }
 ],
 "metadata": {
  "kernelspec": {
   "display_name": "Python 3",
   "language": "python",
   "name": "python3"
  },
  "language_info": {
   "codemirror_mode": {
    "name": "ipython",
    "version": 3
   },
   "file_extension": ".py",
   "mimetype": "text/x-python",
   "name": "python",
   "nbconvert_exporter": "python",
   "pygments_lexer": "ipython3",
   "version": "3.8.3"
  }
 },
 "nbformat": 4,
 "nbformat_minor": 4
}
