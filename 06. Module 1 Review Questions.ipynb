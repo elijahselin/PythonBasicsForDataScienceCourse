{
 "cells": [
  {
   "cell_type": "code",
   "execution_count": 1,
   "metadata": {},
   "outputs": [],
   "source": [
    "# 6. MODULE 1 REVIEW QUESTIONS"
   ]
  },
  {
   "cell_type": "code",
   "execution_count": 1,
   "metadata": {},
   "outputs": [
    {
     "name": "stdout",
     "output_type": "stream",
     "text": [
      "7\n"
     ]
    }
   ],
   "source": [
    "# 1. What is the result of the following operations in Python: 3 + 2 * 2\n",
    "\n",
    "print(3 + 2 * 2)\n",
    "\n",
    "#correct"
   ]
  },
  {
   "cell_type": "code",
   "execution_count": 2,
   "metadata": {},
   "outputs": [
    {
     "name": "stdout",
     "output_type": "stream",
     "text": [
      "Li\n"
     ]
    }
   ],
   "source": [
    "# 2. In Python, if you executed \"name = 'Lizz'\", what would be the output of \"print(name[0:2])\"?\n",
    "\n",
    "# output would be 'Li'\n",
    "\n",
    "name = 'Lizz'\n",
    "print(name[0:2])\n",
    "\n",
    "#correct"
   ]
  },
  {
   "cell_type": "code",
   "execution_count": 3,
   "metadata": {},
   "outputs": [
    {
     "name": "stdout",
     "output_type": "stream",
     "text": [
      "0246\n"
     ]
    }
   ],
   "source": [
    "# 3. In Python, if you executed \"var = '01234567'\", what would be the result of \"print(var[::2])\"?\n",
    "\n",
    "# '0246'\n",
    "\n",
    "var = '01234567'\n",
    "print(var[::2])\n",
    "\n",
    "#correct"
   ]
  },
  {
   "cell_type": "code",
   "execution_count": 4,
   "metadata": {},
   "outputs": [
    {
     "name": "stdout",
     "output_type": "stream",
     "text": [
      "12\n"
     ]
    }
   ],
   "source": [
    "# 4. In Python, what is the result of the following operation '1'+'2'\n",
    "\n",
    "# '12'\n",
    "\n",
    "print('1' + '2')\n",
    "\n",
    "#correct"
   ]
  },
  {
   "cell_type": "code",
   "execution_count": 6,
   "metadata": {},
   "outputs": [
    {
     "name": "stdout",
     "output_type": "stream",
     "text": [
      "HELLO\n"
     ]
    }
   ],
   "source": [
    "#5 Given \"myvar = 'hello'\", how would you convert myvar into uppercase?\n",
    "\n",
    "# myvar.upper()\n",
    "\n",
    "myvar = 'hello'\n",
    "print(myvar.upper())\n",
    "\n",
    "#correct"
   ]
  },
  {
   "cell_type": "code",
   "execution_count": null,
   "metadata": {},
   "outputs": [],
   "source": []
  }
 ],
 "metadata": {
  "kernelspec": {
   "display_name": "Python 3",
   "language": "python",
   "name": "python3"
  },
  "language_info": {
   "codemirror_mode": {
    "name": "ipython",
    "version": 3
   },
   "file_extension": ".py",
   "mimetype": "text/x-python",
   "name": "python",
   "nbconvert_exporter": "python",
   "pygments_lexer": "ipython3",
   "version": "3.8.3"
  }
 },
 "nbformat": 4,
 "nbformat_minor": 4
}
